{
 "cells": [
  {
   "cell_type": "markdown",
   "id": "4b0103f1d00f8303",
   "metadata": {
    "collapsed": false
   },
   "source": [
    "# SMH Visualization - Plot\n",
    "\n",
    "[![Lifecycle:\n",
    "experimental](https://img.shields.io/badge/lifecycle-experimental-orange.svg)](https://lifecycle.r-lib.org/articles/stages.html#experimental)\n",
    "\n",
    "This is the Python Package containing the code for the Scenario Modeling \n",
    "Hub (SMH) plots.\n",
    "\n",
    "## Installation\n",
    "\n",
    "To install the package locally:\n",
    "\n",
    "- clone this repository\n",
    "- `pip install .`\n",
    "\n",
    "To install the package from GitHub.com\n",
    "\n",
    "`pip install git+https://github.com/midas-network/SMHViz_plot`\n",
    "\n",
    "## Usage\n"
   ]
  },
  {
   "cell_type": "code",
   "execution_count": null,
   "outputs": [],
   "source": [
    "from SMHviz_plot.figures import make_scatter_plot\n",
    "import pandas as pd\n",
    "\n",
    "# Truth Data\n",
    "truth_data = pd.read_csv(\"../data/US_inc_case.csv\")\n",
    "truth_data = truth_data[truth_data[\"location\"] == \"US\"]\n",
    "truth_data = truth_data[truth_data[\"time_idx\"] < \"2021-10-01\"]\n",
    "\n",
    "# Example projection file (for US national level only)\n",
    "plot_df = pd.read_csv(\"../data/scenario_example.csv\", dtype={\n",
    "    \"output_type_id\":'float', \"location\": \"str\"})\n",
    "plot_df_hosp = plot_df[plot_df[\"target\"] == \"inc case\"]\n",
    "\n",
    "# Plot\n",
    "make_scatter_plot(plot_df_hosp, truth_data, subplot_var=\"scenario_id\", legend_col=\"model_id\", \n",
    "                  x_truth_col=\"time_idx\", x_col=\"target_date\")\n"
   ],
   "metadata": {
    "collapsed": false
   },
   "id": "166f799709cac129"
  }
 ],
 "metadata": {
  "kernelspec": {
   "display_name": "Python 3 (ipykernel)",
   "language": "python",
   "name": "python3"
  },
  "language_info": {
   "codemirror_mode": {
    "name": "ipython",
    "version": 3
   },
   "file_extension": ".py",
   "mimetype": "text/x-python",
   "name": "python",
   "nbconvert_exporter": "python",
   "pygments_lexer": "ipython3",
   "version": "3.10.4"
  }
 },
 "nbformat": 4,
 "nbformat_minor": 5
}
